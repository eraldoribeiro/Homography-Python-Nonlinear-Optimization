{
 "cells": [
  {
   "cell_type": "markdown",
   "metadata": {
    "colab_type": "text",
    "id": "view-in-github"
   },
   "source": [
    "<a href=\"https://colab.research.google.com/github/eraldoribeiro/Homography-Python-Nonlinear-Optimization/blob/main/mappingImagesUsingHomography.ipynb\" target=\"_parent\"><img src=\"https://colab.research.google.com/assets/colab-badge.svg\" alt=\"Open In Colab\"/></a>"
   ]
  },
  {
   "cell_type": "markdown",
   "metadata": {
    "id": "W11Jt3s0NQ--",
    "tags": []
   },
   "source": [
    "# Mapping images using the homography transformation\n",
    "\n",
    "### Overview\n",
    "This notebook shows how to use the homography transformation for mapping pixels between two images. The transformation is an instance of a plane-to-plane mapping. Here, we will transform an image seen in perspective into its fronto-parallel rectified view. The view-rectification process is summarized in Figure 1. \n",
    "\n",
    "<img src=\"rectificationProcess.jpg\" alt=\"rectification process\" style=\"zoom:70%;\" />\n",
    "\n",
    "**Figure 1**: Image rectification using the homography transformation. The input is an image of a planar object viewed under  perspective projection. The process calculates the homography transformation that maps the input image to the output shape (i.e., model shape). The model shape is a rectangle with the same size or proportions as the planar object. The pixel coordinates are mapped by the homography transformation and the their colors are transferred to the resulting image using image warping. "
   ]
  },
  {
   "cell_type": "markdown",
   "metadata": {
    "id": "W11Jt3s0NQ--",
    "tags": []
   },
   "source": [
    "### Main steps\n",
    "The two mains steps of the rectification process are:\n",
    "\n",
    "$$\n",
    "\\begin{align}\n",
    "  \\Phi &\\gets {\\tt estimateHomography(}\\,x_1,y_1,\\dots,x_N,y_N,u_1,v_1,\\dots,u_N,v_N \\,{\\tt )}\\notag\\\\\n",
    "  {\\tt rectifiedImage} &\\gets {\\tt warpImage(inputImage}, \\Phi{\\tt )}\\notag\\\\\n",
    "\\end{align}\n",
    "$$\n",
    "\n",
    "Here, $\\left\\{x_1,y_1,\\dots,x_N,y_N\\right\\}$ are the coordinates of non-colinear features detected on the image of the object (i.e., image points), and $\\left\\{u_1,v_1,\\dots,u_N,v_N\\right\\}$ are the coordinates of the corresponding features on the planar object (i.e., model points)."
   ]
  },
  {
   "cell_type": "markdown",
   "metadata": {
    "id": "W11Jt3s0NQ--"
   },
   "source": [
    "## The homography transformation (image-capture interpretation)\n",
    "\n",
    "### Geometry\n",
    "\n",
    "Consider a camera centered at a point $C\\in \\mathbb{R}^3$ and pointed at a rectangular object lying on a plane in the scene (Figure 2). Here, the world-coordinate frame $\\{{\\bf u},{\\bf v},{\\bf w}\\}$ has been placed at one of the corners of the planar object for convinience. The depth axis ${\\bf w}$ points downwards. In this case, the camera is translated along the negative side of ${\\bf w}$ (i.e., facing the rectangle from above). The camera's coordinate frame is given by $\\{{\\bf u}_c,{\\bf v}_c,{\\bf w}_c\\}$.\n",
    "\n",
    "<img src=\"./geometry01.jpg\" alt=\"geometry01\" style=\"zoom:30%;\" />\n",
    "\n",
    "**Figure 2**: Camera is translated along the negative direction of the ${\\bf w}$ axis. The imaging geometry is governed by a homography transformation. "
   ]
  },
  {
   "cell_type": "markdown",
   "metadata": {
    "id": "W11Jt3s0NQ--"
   },
   "source": [
    "If the camera moves slightly to the left (i.e., towards the v-axis) and turns a bit about the u-axis while facing the rectangle (i.e., the camera is both translated and rotated w.r.t. world-coordinate frame) then the geometric transformation of the image is still a homography transformation albeit a different one. \n",
    "\n",
    "<img src=\"geometry02.jpg\" alt=\"geometry02\" style=\"zoom:30%;\" />\n",
    "\n",
    "**Figure 3**: Camera is rotated and then translated. The imaging geometry is governed by a homography transformation. The homography transformation is different for every pose of the camera."
   ]
  },
  {
   "cell_type": "markdown",
   "metadata": {
    "id": "W11Jt3s0NQ--"
   },
   "source": [
    "### Examples\n",
    "\n",
    "This type of image-capture scenario occurs in many practical situations (Figure 4). \n",
    "\n",
    "![examples](examples.jpg)\n",
    "\n",
    "**Figure 4**: Plane-to-plane transformations in practical scenarios. When planes in a 3-D scene are viewed through a camera, the image of the scene planes and the image are related by a homography transformation. "
   ]
  },
  {
   "cell_type": "markdown",
   "metadata": {},
   "source": [
    "### The equation of the homography transformation\n",
    "\n",
    "The homography transformation maps a point ${\\bf w} = \\left(u,v\\right)^\\mathsf{T}$ on the object to a corresponding point ${\\bf x} = \\left(x,y\\right)^\\mathsf{T}$ on the image as follows:\n",
    "\n",
    "$$\n",
    "\\begin{align} \n",
    "   x =  \\frac{\\phi_{11}u_i +  \\phi_{12}v_i + \\phi_{13}}\n",
    "                   {\\phi_{31}u_i +  \\phi_{32}v_i + \\phi_{33}} \n",
    " \\,\\,\\,\\,\\,\\,\\,\\, \\text{and}\\,\\,\\,\\,\\,\\,\\,\\,\n",
    "   y =  \\frac{\\phi_{21}u_i +  \\phi_{22}v_i + \\phi_{23}}\n",
    "                   {\\phi_{31}u_i +  \\phi_{32}v_i + \\phi_{33}}. \n",
    "   \\label{homography_explicit}\n",
    " \\end{align}\n",
    "$$\n",
    "\n",
    "This transformation is non-linear with respect to the parameters $\\phi$. When using homogeneous coordinates, we can write the transformation in matrix form as follows: \n",
    "\n",
    "$$\n",
    "\\begin{align} \n",
    "   \\lambda \n",
    "   \\begin{bmatrix}\n",
    "       x_i \\\\\n",
    "       y_i \\\\\n",
    "       1 \n",
    "   \\end{bmatrix}\n",
    "   =  \n",
    "   \\begin{bmatrix}\n",
    "       \\phi_{11} & \\phi_{12} & \\phi_{13} \\\\\n",
    "       \\phi_{21} & \\phi_{22} & \\phi_{23} \\\\\n",
    "       \\phi_{31} & \\phi_{32} & \\phi_{33} \\\\\n",
    "   \\end{bmatrix}\n",
    "   \\begin{bmatrix}\n",
    "       u_i \\\\\n",
    "       v_i \\\\\n",
    "       1 \n",
    "   \\end{bmatrix},\n",
    "   \\label{projectivefromobject2image}\n",
    " \\end{align}\n",
    "$$\n",
    "or in short: \n",
    "$$\n",
    "\\begin{align} \n",
    "   {\\bf \\tilde{x}} =  \\Phi {\\bf \\tilde{w}}.\n",
    " \\end{align}\n",
    "$$"
   ]
  },
  {
   "cell_type": "markdown",
   "metadata": {},
   "source": [
    "### Estimating the parameters of the homography transformation \n",
    "\n",
    "To estimate the parameters of the homography transformation, we re-arrange the above linear system to form of a system of linear equations in terms of the parameters $\\phi_{ij}$. After re-arranging the linear system, the resulting system can be of the form $A\\phi = {\\bf b}$ or  $A\\phi = {\\bf 0}$. The form $A\\phi = {\\bf 0}$ is given by: \n",
    "$$\n",
    "\\begin{align} \n",
    "   \\begin{bmatrix}\n",
    "       0    &    0 & 0 & -u_1 & -v_1 & -1  &   y_1 u_1 &   y_1 v_1 &   y_1 \\\\  \n",
    "       u_1 & v_1 & 1 &      0 &     0 &   0  & -x_1 u_1 & -x_1 v_1 & -x_1\\\\\n",
    "       \\vdots & \\vdots & \\vdots &      \\vdots &     \\vdots &   \\vdots  &\n",
    "       \\vdots & \\vdots & \\vdots\\\\\n",
    "       0    &    0 & 0 & -u_I & -v_I & -1  &   y_I u_I &   y_I v_I &   y_I \\\\  \n",
    "       u_I & v_I & 1 &      0 &     0 &   0  & -x_I u_I & -x_I v_I & -x_I \n",
    "   \\end{bmatrix}\n",
    "   \\begin{bmatrix}\n",
    "       \\phi_{11} \\\\\n",
    "       \\phi_{12} \\\\\n",
    "       \\phi_{13} \\\\\n",
    "       \\phi_{21} \\\\\n",
    "       \\phi_{22} \\\\\n",
    "       \\phi_{23} \\\\\n",
    "       \\phi_{31} \\\\\n",
    "       \\phi_{32} \\\\\n",
    "       \\phi_{33}\n",
    "   \\end{bmatrix}\n",
    "   = {\\bf 0}.\n",
    "   \\label{system}\n",
    " \\end{align}\n",
    "$$\n",
    " To solve this equation for the unknown parameters, we calculate the singular-value decomposition of the system matrix, i.e., $A = ULV^T$, and take the last column of matrix $V$ as the approximate solution for $\\phi$. This solution is usually fine but it can often be further refined by solving the following minimization problem: \n",
    "\n",
    "$$\n",
    "\\begin{align} \n",
    "   \\hat{\\Phi} &=  \\arg_{\\Phi}\\min \n",
    "                      \\left[\n",
    "                         \\sum_{i=1}^{I}\n",
    "                         \\left(x_i - \\frac{\\phi_{11}u_i +  \\phi_{12}v_i + \\phi_{13}}\n",
    "                                             {\\phi_{31}u_i +  \\phi_{32}v_i + \\phi_{33}} \n",
    "                          \\right)^2\n",
    "                          + \n",
    "                         \\left(y_i - \\frac{\\phi_{21}u_i +  \\phi_{22}v_i + \\phi_{23}}\n",
    "                                             {\\phi_{31}u_i +  \\phi_{32}v_i + \\phi_{33}} \n",
    "                          \\right)^2\n",
    "                  \\right], \n",
    "       \\label{nonlinearcostfunction}\n",
    " \\end{align}\n",
    "$$\n",
    "\n",
    "which can be solved by a number of optimization methods (e.g., gradient descent, Newton's method). Here, the initial guess of the non-linear optimization method is the solution obtained from the linear system of equations.  "
   ]
  },
  {
   "cell_type": "markdown",
   "metadata": {},
   "source": [
    "### Solution using the OpenCV library"
   ]
  },
  {
   "cell_type": "code",
   "execution_count": 1,
   "metadata": {
    "id": "KuvA3DTEu1vX"
   },
   "outputs": [],
   "source": [
    "import numpy as np\n",
    "import cv2 as cv\n",
    "from  matplotlib import pyplot as plt\n",
    "from scipy.optimize import fsolve, root\n",
    "\n",
    "import io\n",
    "import PIL\n",
    "import requests\n",
    "\n",
    "#%matplotlib inline"
   ]
  },
  {
   "cell_type": "markdown",
   "metadata": {},
   "source": [
    "#### Model points (model shape)\n",
    "In order to rectify the perspective image of the planar object, we need to have a description of the shape of the object when seen from the top or fronto-parallel viewpoint. This shape is usually the original shape of the object (e.g., a rectangle or a square). In the example shown in this notebook, the object is the cover of a book and we will choose a square shape to represent the shape of the object. The shape is given by the coordinates of the corners of the book cover. We will choose the following coordinates: $(u_i,v_i) = \\{(0,0),(1000,0),(1000,1000),(0,1000)\\}$. Since these features describe our model of the object, we call them model points.   "
   ]
  },
  {
   "cell_type": "code",
   "execution_count": 2,
   "metadata": {
    "colab": {
     "base_uri": "https://localhost:8080/"
    },
    "id": "6wOVoZyMu1vZ",
    "outputId": "06e85b9c-f20b-4426-cbf4-7759ce5d1c3e"
   },
   "outputs": [
    {
     "name": "stdout",
     "output_type": "stream",
     "text": [
      "Model points =\n",
      " [[   0. 1000. 1000.    0.]\n",
      " [   0.    0. 1000. 1000.]]\n"
     ]
    }
   ],
   "source": [
    "# Model corners (features detected on the model)\n",
    "modelCorners = np.float32([[0,0],[1000,0],[1000,1000],[0,1000]])\n",
    "modelCorners = modelCorners.T;\n",
    "print(\"Model points =\\n\", modelCorners)"
   ]
  },
  {
   "cell_type": "markdown",
   "metadata": {},
   "source": [
    "#### Input image\n",
    "We need an image that shows the planar object. We also need a description of the object in the image. This description is given by a set of features that are corresponding to the features in the model shape. The feature correspondence must be one-to-one. Wrong correspondences will result in wrong results. "
   ]
  },
  {
   "cell_type": "code",
   "execution_count": 3,
   "metadata": {
    "id": "mScFbQTSu1va"
   },
   "outputs": [
    {
     "ename": "KeyboardInterrupt",
     "evalue": "",
     "output_type": "error",
     "traceback": [
      "\u001b[0;31m---------------------------------------------------------------------------\u001b[0m",
      "\u001b[0;31mKeyboardInterrupt\u001b[0m                         Traceback (most recent call last)",
      "\u001b[0;32m<ipython-input-3-cee18247ec6c>\u001b[0m in \u001b[0;36m<module>\u001b[0;34m\u001b[0m\n\u001b[1;32m      1\u001b[0m \u001b[0;31m# Image to be warped\u001b[0m\u001b[0;34m\u001b[0m\u001b[0;34m\u001b[0m\u001b[0;34m\u001b[0m\u001b[0m\n\u001b[0;32m----> 2\u001b[0;31m \u001b[0mimage_response\u001b[0m \u001b[0;34m=\u001b[0m \u001b[0mrequests\u001b[0m\u001b[0;34m.\u001b[0m\u001b[0mget\u001b[0m\u001b[0;34m(\u001b[0m\u001b[0;34m'https://raw.githubusercontent.com/eraldoribeiro/Homography-Python-Nonlinear-Optimization/main/stone.png'\u001b[0m\u001b[0;34m)\u001b[0m\u001b[0;34m\u001b[0m\u001b[0;34m\u001b[0m\u001b[0m\n\u001b[0m\u001b[1;32m      3\u001b[0m \u001b[0mpil_im\u001b[0m \u001b[0;34m=\u001b[0m \u001b[0mPIL\u001b[0m\u001b[0;34m.\u001b[0m\u001b[0mImage\u001b[0m\u001b[0;34m.\u001b[0m\u001b[0mopen\u001b[0m\u001b[0;34m(\u001b[0m\u001b[0mio\u001b[0m\u001b[0;34m.\u001b[0m\u001b[0mBytesIO\u001b[0m\u001b[0;34m(\u001b[0m\u001b[0mimage_response\u001b[0m\u001b[0;34m.\u001b[0m\u001b[0mcontent\u001b[0m\u001b[0;34m)\u001b[0m\u001b[0;34m)\u001b[0m\u001b[0;34m.\u001b[0m\u001b[0mconvert\u001b[0m\u001b[0;34m(\u001b[0m\u001b[0;34m'RGB'\u001b[0m\u001b[0;34m)\u001b[0m\u001b[0;34m\u001b[0m\u001b[0;34m\u001b[0m\u001b[0m\n\u001b[1;32m      4\u001b[0m \u001b[0mim\u001b[0m \u001b[0;34m=\u001b[0m \u001b[0mnp\u001b[0m\u001b[0;34m.\u001b[0m\u001b[0masarray\u001b[0m\u001b[0;34m(\u001b[0m\u001b[0mpil_im\u001b[0m\u001b[0;34m)\u001b[0m\u001b[0;34m\u001b[0m\u001b[0;34m\u001b[0m\u001b[0m\n",
      "\u001b[0;32m/Library/Frameworks/Python.framework/Versions/3.9/lib/python3.9/site-packages/requests/api.py\u001b[0m in \u001b[0;36mget\u001b[0;34m(url, params, **kwargs)\u001b[0m\n\u001b[1;32m     74\u001b[0m \u001b[0;34m\u001b[0m\u001b[0m\n\u001b[1;32m     75\u001b[0m     \u001b[0mkwargs\u001b[0m\u001b[0;34m.\u001b[0m\u001b[0msetdefault\u001b[0m\u001b[0;34m(\u001b[0m\u001b[0;34m'allow_redirects'\u001b[0m\u001b[0;34m,\u001b[0m \u001b[0;32mTrue\u001b[0m\u001b[0;34m)\u001b[0m\u001b[0;34m\u001b[0m\u001b[0;34m\u001b[0m\u001b[0m\n\u001b[0;32m---> 76\u001b[0;31m     \u001b[0;32mreturn\u001b[0m \u001b[0mrequest\u001b[0m\u001b[0;34m(\u001b[0m\u001b[0;34m'get'\u001b[0m\u001b[0;34m,\u001b[0m \u001b[0murl\u001b[0m\u001b[0;34m,\u001b[0m \u001b[0mparams\u001b[0m\u001b[0;34m=\u001b[0m\u001b[0mparams\u001b[0m\u001b[0;34m,\u001b[0m \u001b[0;34m**\u001b[0m\u001b[0mkwargs\u001b[0m\u001b[0;34m)\u001b[0m\u001b[0;34m\u001b[0m\u001b[0;34m\u001b[0m\u001b[0m\n\u001b[0m\u001b[1;32m     77\u001b[0m \u001b[0;34m\u001b[0m\u001b[0m\n\u001b[1;32m     78\u001b[0m \u001b[0;34m\u001b[0m\u001b[0m\n",
      "\u001b[0;32m/Library/Frameworks/Python.framework/Versions/3.9/lib/python3.9/site-packages/requests/api.py\u001b[0m in \u001b[0;36mrequest\u001b[0;34m(method, url, **kwargs)\u001b[0m\n\u001b[1;32m     59\u001b[0m     \u001b[0;31m# cases, and look like a memory leak in others.\u001b[0m\u001b[0;34m\u001b[0m\u001b[0;34m\u001b[0m\u001b[0;34m\u001b[0m\u001b[0m\n\u001b[1;32m     60\u001b[0m     \u001b[0;32mwith\u001b[0m \u001b[0msessions\u001b[0m\u001b[0;34m.\u001b[0m\u001b[0mSession\u001b[0m\u001b[0;34m(\u001b[0m\u001b[0;34m)\u001b[0m \u001b[0;32mas\u001b[0m \u001b[0msession\u001b[0m\u001b[0;34m:\u001b[0m\u001b[0;34m\u001b[0m\u001b[0;34m\u001b[0m\u001b[0m\n\u001b[0;32m---> 61\u001b[0;31m         \u001b[0;32mreturn\u001b[0m \u001b[0msession\u001b[0m\u001b[0;34m.\u001b[0m\u001b[0mrequest\u001b[0m\u001b[0;34m(\u001b[0m\u001b[0mmethod\u001b[0m\u001b[0;34m=\u001b[0m\u001b[0mmethod\u001b[0m\u001b[0;34m,\u001b[0m \u001b[0murl\u001b[0m\u001b[0;34m=\u001b[0m\u001b[0murl\u001b[0m\u001b[0;34m,\u001b[0m \u001b[0;34m**\u001b[0m\u001b[0mkwargs\u001b[0m\u001b[0;34m)\u001b[0m\u001b[0;34m\u001b[0m\u001b[0;34m\u001b[0m\u001b[0m\n\u001b[0m\u001b[1;32m     62\u001b[0m \u001b[0;34m\u001b[0m\u001b[0m\n\u001b[1;32m     63\u001b[0m \u001b[0;34m\u001b[0m\u001b[0m\n",
      "\u001b[0;32m/Library/Frameworks/Python.framework/Versions/3.9/lib/python3.9/site-packages/requests/sessions.py\u001b[0m in \u001b[0;36mrequest\u001b[0;34m(self, method, url, params, data, headers, cookies, files, auth, timeout, allow_redirects, proxies, hooks, stream, verify, cert, json)\u001b[0m\n\u001b[1;32m    540\u001b[0m         }\n\u001b[1;32m    541\u001b[0m         \u001b[0msend_kwargs\u001b[0m\u001b[0;34m.\u001b[0m\u001b[0mupdate\u001b[0m\u001b[0;34m(\u001b[0m\u001b[0msettings\u001b[0m\u001b[0;34m)\u001b[0m\u001b[0;34m\u001b[0m\u001b[0;34m\u001b[0m\u001b[0m\n\u001b[0;32m--> 542\u001b[0;31m         \u001b[0mresp\u001b[0m \u001b[0;34m=\u001b[0m \u001b[0mself\u001b[0m\u001b[0;34m.\u001b[0m\u001b[0msend\u001b[0m\u001b[0;34m(\u001b[0m\u001b[0mprep\u001b[0m\u001b[0;34m,\u001b[0m \u001b[0;34m**\u001b[0m\u001b[0msend_kwargs\u001b[0m\u001b[0;34m)\u001b[0m\u001b[0;34m\u001b[0m\u001b[0;34m\u001b[0m\u001b[0m\n\u001b[0m\u001b[1;32m    543\u001b[0m \u001b[0;34m\u001b[0m\u001b[0m\n\u001b[1;32m    544\u001b[0m         \u001b[0;32mreturn\u001b[0m \u001b[0mresp\u001b[0m\u001b[0;34m\u001b[0m\u001b[0;34m\u001b[0m\u001b[0m\n",
      "\u001b[0;32m/Library/Frameworks/Python.framework/Versions/3.9/lib/python3.9/site-packages/requests/sessions.py\u001b[0m in \u001b[0;36msend\u001b[0;34m(self, request, **kwargs)\u001b[0m\n\u001b[1;32m    653\u001b[0m \u001b[0;34m\u001b[0m\u001b[0m\n\u001b[1;32m    654\u001b[0m         \u001b[0;31m# Send the request\u001b[0m\u001b[0;34m\u001b[0m\u001b[0;34m\u001b[0m\u001b[0;34m\u001b[0m\u001b[0m\n\u001b[0;32m--> 655\u001b[0;31m         \u001b[0mr\u001b[0m \u001b[0;34m=\u001b[0m \u001b[0madapter\u001b[0m\u001b[0;34m.\u001b[0m\u001b[0msend\u001b[0m\u001b[0;34m(\u001b[0m\u001b[0mrequest\u001b[0m\u001b[0;34m,\u001b[0m \u001b[0;34m**\u001b[0m\u001b[0mkwargs\u001b[0m\u001b[0;34m)\u001b[0m\u001b[0;34m\u001b[0m\u001b[0;34m\u001b[0m\u001b[0m\n\u001b[0m\u001b[1;32m    656\u001b[0m \u001b[0;34m\u001b[0m\u001b[0m\n\u001b[1;32m    657\u001b[0m         \u001b[0;31m# Total elapsed time of the request (approximately)\u001b[0m\u001b[0;34m\u001b[0m\u001b[0;34m\u001b[0m\u001b[0;34m\u001b[0m\u001b[0m\n",
      "\u001b[0;32m/Library/Frameworks/Python.framework/Versions/3.9/lib/python3.9/site-packages/requests/adapters.py\u001b[0m in \u001b[0;36msend\u001b[0;34m(self, request, stream, timeout, verify, cert, proxies)\u001b[0m\n\u001b[1;32m    437\u001b[0m         \u001b[0;32mtry\u001b[0m\u001b[0;34m:\u001b[0m\u001b[0;34m\u001b[0m\u001b[0;34m\u001b[0m\u001b[0m\n\u001b[1;32m    438\u001b[0m             \u001b[0;32mif\u001b[0m \u001b[0;32mnot\u001b[0m \u001b[0mchunked\u001b[0m\u001b[0;34m:\u001b[0m\u001b[0;34m\u001b[0m\u001b[0;34m\u001b[0m\u001b[0m\n\u001b[0;32m--> 439\u001b[0;31m                 resp = conn.urlopen(\n\u001b[0m\u001b[1;32m    440\u001b[0m                     \u001b[0mmethod\u001b[0m\u001b[0;34m=\u001b[0m\u001b[0mrequest\u001b[0m\u001b[0;34m.\u001b[0m\u001b[0mmethod\u001b[0m\u001b[0;34m,\u001b[0m\u001b[0;34m\u001b[0m\u001b[0;34m\u001b[0m\u001b[0m\n\u001b[1;32m    441\u001b[0m                     \u001b[0murl\u001b[0m\u001b[0;34m=\u001b[0m\u001b[0murl\u001b[0m\u001b[0;34m,\u001b[0m\u001b[0;34m\u001b[0m\u001b[0;34m\u001b[0m\u001b[0m\n",
      "\u001b[0;32m/Library/Frameworks/Python.framework/Versions/3.9/lib/python3.9/site-packages/urllib3/connectionpool.py\u001b[0m in \u001b[0;36murlopen\u001b[0;34m(self, method, url, body, headers, retries, redirect, assert_same_host, timeout, pool_timeout, release_conn, chunked, body_pos, **response_kw)\u001b[0m\n\u001b[1;32m    697\u001b[0m \u001b[0;34m\u001b[0m\u001b[0m\n\u001b[1;32m    698\u001b[0m             \u001b[0;31m# Make the request on the httplib connection object.\u001b[0m\u001b[0;34m\u001b[0m\u001b[0;34m\u001b[0m\u001b[0;34m\u001b[0m\u001b[0m\n\u001b[0;32m--> 699\u001b[0;31m             httplib_response = self._make_request(\n\u001b[0m\u001b[1;32m    700\u001b[0m                 \u001b[0mconn\u001b[0m\u001b[0;34m,\u001b[0m\u001b[0;34m\u001b[0m\u001b[0;34m\u001b[0m\u001b[0m\n\u001b[1;32m    701\u001b[0m                 \u001b[0mmethod\u001b[0m\u001b[0;34m,\u001b[0m\u001b[0;34m\u001b[0m\u001b[0;34m\u001b[0m\u001b[0m\n",
      "\u001b[0;32m/Library/Frameworks/Python.framework/Versions/3.9/lib/python3.9/site-packages/urllib3/connectionpool.py\u001b[0m in \u001b[0;36m_make_request\u001b[0;34m(self, conn, method, url, timeout, chunked, **httplib_request_kw)\u001b[0m\n\u001b[1;32m    380\u001b[0m         \u001b[0;31m# Trigger any extra validation we need to do.\u001b[0m\u001b[0;34m\u001b[0m\u001b[0;34m\u001b[0m\u001b[0;34m\u001b[0m\u001b[0m\n\u001b[1;32m    381\u001b[0m         \u001b[0;32mtry\u001b[0m\u001b[0;34m:\u001b[0m\u001b[0;34m\u001b[0m\u001b[0;34m\u001b[0m\u001b[0m\n\u001b[0;32m--> 382\u001b[0;31m             \u001b[0mself\u001b[0m\u001b[0;34m.\u001b[0m\u001b[0m_validate_conn\u001b[0m\u001b[0;34m(\u001b[0m\u001b[0mconn\u001b[0m\u001b[0;34m)\u001b[0m\u001b[0;34m\u001b[0m\u001b[0;34m\u001b[0m\u001b[0m\n\u001b[0m\u001b[1;32m    383\u001b[0m         \u001b[0;32mexcept\u001b[0m \u001b[0;34m(\u001b[0m\u001b[0mSocketTimeout\u001b[0m\u001b[0;34m,\u001b[0m \u001b[0mBaseSSLError\u001b[0m\u001b[0;34m)\u001b[0m \u001b[0;32mas\u001b[0m \u001b[0me\u001b[0m\u001b[0;34m:\u001b[0m\u001b[0;34m\u001b[0m\u001b[0;34m\u001b[0m\u001b[0m\n\u001b[1;32m    384\u001b[0m             \u001b[0;31m# Py2 raises this as a BaseSSLError, Py3 raises it as socket timeout.\u001b[0m\u001b[0;34m\u001b[0m\u001b[0;34m\u001b[0m\u001b[0;34m\u001b[0m\u001b[0m\n",
      "\u001b[0;32m/Library/Frameworks/Python.framework/Versions/3.9/lib/python3.9/site-packages/urllib3/connectionpool.py\u001b[0m in \u001b[0;36m_validate_conn\u001b[0;34m(self, conn)\u001b[0m\n\u001b[1;32m   1008\u001b[0m         \u001b[0;31m# Force connect early to allow us to validate the connection.\u001b[0m\u001b[0;34m\u001b[0m\u001b[0;34m\u001b[0m\u001b[0;34m\u001b[0m\u001b[0m\n\u001b[1;32m   1009\u001b[0m         \u001b[0;32mif\u001b[0m \u001b[0;32mnot\u001b[0m \u001b[0mgetattr\u001b[0m\u001b[0;34m(\u001b[0m\u001b[0mconn\u001b[0m\u001b[0;34m,\u001b[0m \u001b[0;34m\"sock\"\u001b[0m\u001b[0;34m,\u001b[0m \u001b[0;32mNone\u001b[0m\u001b[0;34m)\u001b[0m\u001b[0;34m:\u001b[0m  \u001b[0;31m# AppEngine might not have  `.sock`\u001b[0m\u001b[0;34m\u001b[0m\u001b[0;34m\u001b[0m\u001b[0m\n\u001b[0;32m-> 1010\u001b[0;31m             \u001b[0mconn\u001b[0m\u001b[0;34m.\u001b[0m\u001b[0mconnect\u001b[0m\u001b[0;34m(\u001b[0m\u001b[0;34m)\u001b[0m\u001b[0;34m\u001b[0m\u001b[0;34m\u001b[0m\u001b[0m\n\u001b[0m\u001b[1;32m   1011\u001b[0m \u001b[0;34m\u001b[0m\u001b[0m\n\u001b[1;32m   1012\u001b[0m         \u001b[0;32mif\u001b[0m \u001b[0;32mnot\u001b[0m \u001b[0mconn\u001b[0m\u001b[0;34m.\u001b[0m\u001b[0mis_verified\u001b[0m\u001b[0;34m:\u001b[0m\u001b[0;34m\u001b[0m\u001b[0;34m\u001b[0m\u001b[0m\n",
      "\u001b[0;32m/Library/Frameworks/Python.framework/Versions/3.9/lib/python3.9/site-packages/urllib3/connection.py\u001b[0m in \u001b[0;36mconnect\u001b[0;34m(self)\u001b[0m\n\u001b[1;32m    351\u001b[0m     \u001b[0;32mdef\u001b[0m \u001b[0mconnect\u001b[0m\u001b[0;34m(\u001b[0m\u001b[0mself\u001b[0m\u001b[0;34m)\u001b[0m\u001b[0;34m:\u001b[0m\u001b[0;34m\u001b[0m\u001b[0;34m\u001b[0m\u001b[0m\n\u001b[1;32m    352\u001b[0m         \u001b[0;31m# Add certificate verification\u001b[0m\u001b[0;34m\u001b[0m\u001b[0;34m\u001b[0m\u001b[0;34m\u001b[0m\u001b[0m\n\u001b[0;32m--> 353\u001b[0;31m         \u001b[0mconn\u001b[0m \u001b[0;34m=\u001b[0m \u001b[0mself\u001b[0m\u001b[0;34m.\u001b[0m\u001b[0m_new_conn\u001b[0m\u001b[0;34m(\u001b[0m\u001b[0;34m)\u001b[0m\u001b[0;34m\u001b[0m\u001b[0;34m\u001b[0m\u001b[0m\n\u001b[0m\u001b[1;32m    354\u001b[0m         \u001b[0mhostname\u001b[0m \u001b[0;34m=\u001b[0m \u001b[0mself\u001b[0m\u001b[0;34m.\u001b[0m\u001b[0mhost\u001b[0m\u001b[0;34m\u001b[0m\u001b[0;34m\u001b[0m\u001b[0m\n\u001b[1;32m    355\u001b[0m         \u001b[0mtls_in_tls\u001b[0m \u001b[0;34m=\u001b[0m \u001b[0;32mFalse\u001b[0m\u001b[0;34m\u001b[0m\u001b[0;34m\u001b[0m\u001b[0m\n",
      "\u001b[0;32m/Library/Frameworks/Python.framework/Versions/3.9/lib/python3.9/site-packages/urllib3/connection.py\u001b[0m in \u001b[0;36m_new_conn\u001b[0;34m(self)\u001b[0m\n\u001b[1;32m    167\u001b[0m \u001b[0;34m\u001b[0m\u001b[0m\n\u001b[1;32m    168\u001b[0m         \u001b[0;32mtry\u001b[0m\u001b[0;34m:\u001b[0m\u001b[0;34m\u001b[0m\u001b[0;34m\u001b[0m\u001b[0m\n\u001b[0;32m--> 169\u001b[0;31m             conn = connection.create_connection(\n\u001b[0m\u001b[1;32m    170\u001b[0m                 \u001b[0;34m(\u001b[0m\u001b[0mself\u001b[0m\u001b[0;34m.\u001b[0m\u001b[0m_dns_host\u001b[0m\u001b[0;34m,\u001b[0m \u001b[0mself\u001b[0m\u001b[0;34m.\u001b[0m\u001b[0mport\u001b[0m\u001b[0;34m)\u001b[0m\u001b[0;34m,\u001b[0m \u001b[0mself\u001b[0m\u001b[0;34m.\u001b[0m\u001b[0mtimeout\u001b[0m\u001b[0;34m,\u001b[0m \u001b[0;34m**\u001b[0m\u001b[0mextra_kw\u001b[0m\u001b[0;34m\u001b[0m\u001b[0;34m\u001b[0m\u001b[0m\n\u001b[1;32m    171\u001b[0m             )\n",
      "\u001b[0;32m/Library/Frameworks/Python.framework/Versions/3.9/lib/python3.9/site-packages/urllib3/util/connection.py\u001b[0m in \u001b[0;36mcreate_connection\u001b[0;34m(address, timeout, source_address, socket_options)\u001b[0m\n\u001b[1;32m     84\u001b[0m             \u001b[0;32mif\u001b[0m \u001b[0msource_address\u001b[0m\u001b[0;34m:\u001b[0m\u001b[0;34m\u001b[0m\u001b[0;34m\u001b[0m\u001b[0m\n\u001b[1;32m     85\u001b[0m                 \u001b[0msock\u001b[0m\u001b[0;34m.\u001b[0m\u001b[0mbind\u001b[0m\u001b[0;34m(\u001b[0m\u001b[0msource_address\u001b[0m\u001b[0;34m)\u001b[0m\u001b[0;34m\u001b[0m\u001b[0;34m\u001b[0m\u001b[0m\n\u001b[0;32m---> 86\u001b[0;31m             \u001b[0msock\u001b[0m\u001b[0;34m.\u001b[0m\u001b[0mconnect\u001b[0m\u001b[0;34m(\u001b[0m\u001b[0msa\u001b[0m\u001b[0;34m)\u001b[0m\u001b[0;34m\u001b[0m\u001b[0;34m\u001b[0m\u001b[0m\n\u001b[0m\u001b[1;32m     87\u001b[0m             \u001b[0;32mreturn\u001b[0m \u001b[0msock\u001b[0m\u001b[0;34m\u001b[0m\u001b[0;34m\u001b[0m\u001b[0m\n\u001b[1;32m     88\u001b[0m \u001b[0;34m\u001b[0m\u001b[0m\n",
      "\u001b[0;31mKeyboardInterrupt\u001b[0m: "
     ]
    }
   ],
   "source": [
    "# Image to be warped \n",
    "image_response = requests.get('https://raw.githubusercontent.com/eraldoribeiro/Homography-Python-Nonlinear-Optimization/main/stone.png')\n",
    "pil_im = PIL.Image.open(io.BytesIO(image_response.content)).convert('RGB')\n",
    "im = np.asarray(pil_im)"
   ]
  },
  {
   "cell_type": "code",
   "execution_count": null,
   "metadata": {
    "colab": {
     "base_uri": "https://localhost:8080/",
     "height": 299
    },
    "id": "S5GY8fZn4IEr",
    "outputId": "4cf31bad-8404-47f6-d5bb-d99a21deae78"
   },
   "outputs": [],
   "source": [
    "print(im.shape)\n",
    "plt.imshow(im)\n",
    "plt.title('Input images')\n",
    "plt.show()"
   ]
  },
  {
   "cell_type": "markdown",
   "metadata": {},
   "source": [
    "#### Feature points on the image\n",
    "The image features in this example are the coordinates of the corners of the book cover. These coordinates are detected using a feature detector or manually. "
   ]
  },
  {
   "cell_type": "code",
   "execution_count": null,
   "metadata": {
    "colab": {
     "base_uri": "https://localhost:8080/"
    },
    "id": "iIy6I0ftu1vb",
    "outputId": "a291e34e-6a09-4764-a035-4e3a63973b46"
   },
   "outputs": [],
   "source": [
    "# Image features (corners)\n",
    "imageCorners = np.float32([[80,112],[734,46],[1082,766],[176,990]])\n",
    "imageCorners = imageCorners.T;\n",
    "print(\"Image corners =\\n\", imageCorners)"
   ]
  },
  {
   "cell_type": "code",
   "execution_count": null,
   "metadata": {
    "colab": {
     "base_uri": "https://localhost:8080/",
     "height": 299
    },
    "id": "ORNP1FVXu1vc",
    "outputId": "fcddce45-3a26-4a04-ee5a-9829d59eed6c"
   },
   "outputs": [],
   "source": [
    "# Display corners on image\n",
    "fig, ax = plt.subplots()\n",
    "ax.imshow(im)\n",
    "ax.plot(imageCorners[0,:], imageCorners[1,:], 'ro', linewidth=10)\n",
    "plt.title('Corner points')"
   ]
  },
  {
   "cell_type": "markdown",
   "metadata": {},
   "source": [
    "#### Estimate the homography transformation matrix\n",
    "Now that we have the model coordinates, the features coordinates, and the image, we can solve the linear system of equations to obtain the homography matrix. When using OpenCV, the estimation is done usign the `getPerspectiveTransform()` function."
   ]
  },
  {
   "cell_type": "code",
   "execution_count": null,
   "metadata": {
    "colab": {
     "base_uri": "https://localhost:8080/",
     "height": 352
    },
    "id": "oxPywErau1vc",
    "outputId": "50eaab32-1a01-496d-91cb-ad32c40fb67b"
   },
   "outputs": [],
   "source": [
    "# Using the OpenCV functions \n",
    "# Function cv.getPerspectiveTransform expects row vectors, not column vectors\n",
    "Phi = cv.getPerspectiveTransform(imageCorners.T,modelCorners.T)\n",
    "print(\"Homography (Phi) matrix = \\n\", Phi)"
   ]
  },
  {
   "cell_type": "markdown",
   "metadata": {},
   "source": [
    "#### Warp the image (rectification)\n",
    "With the Phi matrix at hand, we warp the pixels by transfering them from the perspective image to the model shape. In OpenCV, this is done by the `warpPerspective()` function. "
   ]
  },
  {
   "cell_type": "code",
   "execution_count": null,
   "metadata": {
    "colab": {
     "base_uri": "https://localhost:8080/",
     "height": 352
    },
    "id": "oxPywErau1vc",
    "outputId": "50eaab32-1a01-496d-91cb-ad32c40fb67b"
   },
   "outputs": [],
   "source": [
    "dstImage = cv.warpPerspective(im,Phi,(1000,1000))\n",
    "plt.imshow(dstImage)\n",
    "plt.title('Output')\n",
    "plt.show()"
   ]
  },
  {
   "cell_type": "markdown",
   "metadata": {},
   "source": [
    "### Explict solution using SVD and non-linear optimization "
   ]
  },
  {
   "cell_type": "code",
   "execution_count": null,
   "metadata": {
    "id": "TFYpAOyQu1vd"
   },
   "outputs": [],
   "source": [
    "# Model coordinates \n",
    "u = modelCorners[0,:]\n",
    "v = modelCorners[1,:]"
   ]
  },
  {
   "cell_type": "code",
   "execution_count": null,
   "metadata": {
    "id": "v9gDWCjuu1vd"
   },
   "outputs": [],
   "source": [
    "# Image coordinates\n",
    "x = imageCorners[0,:]\n",
    "y = imageCorners[1,:]"
   ]
  },
  {
   "cell_type": "markdown",
   "metadata": {},
   "source": [
    "#### Build the linear system to solve for the $\\Phi$ parameters\n",
    "$$\n",
    "\\begin{align} \n",
    "   \\underbrace{\\begin{bmatrix}\n",
    "       0    &    0 & 0 & -u_1 & -v_1 & -1  &   y_1 u_1 &   y_1 v_1 &   y_1 \\\\  \n",
    "       u_1 & v_1 & 1 &      0 &     0 &   0  & -x_1 u_1 & -x_1 v_1 & -x_1\\\\\n",
    "       \\vdots & \\vdots & \\vdots &      \\vdots &     \\vdots &   \\vdots  &\n",
    "       \\vdots & \\vdots & \\vdots\\\\\n",
    "       0    &    0 & 0 & -u_I & -v_I & -1  &   y_I u_I &   y_I v_I &   y_I \\\\  \n",
    "       u_I & v_I & 1 &      0 &     0 &   0  & -x_I u_I & -x_I v_I & -x_I \n",
    "   \\end{bmatrix}}_{A}\n",
    "   \\underbrace{\\begin{bmatrix}\n",
    "       \\phi_{11} \\\\\n",
    "       \\phi_{12} \\\\\n",
    "       \\phi_{13} \\\\\n",
    "       \\phi_{21} \\\\\n",
    "       \\phi_{22} \\\\\n",
    "       \\phi_{23} \\\\\n",
    "       \\phi_{31} \\\\\n",
    "       \\phi_{32} \\\\\n",
    "       \\phi_{33}\n",
    "   \\end{bmatrix}}_{\\boldsymbol{\\phi}}\n",
    "   = {\\bf 0}.\n",
    "   %\\label{system}\n",
    " \\end{align}\n",
    "$$"
   ]
  },
  {
   "cell_type": "code",
   "execution_count": null,
   "metadata": {
    "colab": {
     "base_uri": "https://localhost:8080/"
    },
    "id": "VKaNzwYPu1ve",
    "outputId": "0acb4856-0c7d-44c8-f33b-a852a89eb5ea"
   },
   "outputs": [],
   "source": [
    "# Build the system matrix to solve for the homography\n",
    "I = 4   # Number of features \n",
    "j = 0;\n",
    "A = np.zeros( (2*I, 9) )\n",
    "for i in range(0,I):\n",
    "    A[j    ,:]  = [    0,         0,     0,    -u[i],   -v[i],     -1,    y[i]*u[i],      y[i]*v[i],    y[i] ]\n",
    "    A[j+1  ,:]  = [  u[i],     v[i],     1,        0,       0,     0,   -x[i]*u[i],     -x[i]*v[i],   -x[i] ]\n",
    "    j = j + 2 \n",
    "    \n",
    "    \n",
    "np.set_printoptions(formatter={'float': '{: 0.2f}'.format},suppress=True)    \n",
    "print(\"A = \\n\", A)   "
   ]
  },
  {
   "cell_type": "markdown",
   "metadata": {},
   "source": [
    "#### SVD solution \n",
    "Solve this equation for the unknown parameters, we calculate the singular-value decomposition of the system matrix, i.e., $A = ULV^T$,"
   ]
  },
  {
   "cell_type": "code",
   "execution_count": null,
   "metadata": {
    "colab": {
     "base_uri": "https://localhost:8080/"
    },
    "id": "YgPcWUUxu1vf",
    "outputId": "6a1c3657-1426-4276-bc53-99775a039402"
   },
   "outputs": [],
   "source": [
    "# SVD of A\n",
    "U,D,Vt = np.linalg.svd(A)\n",
    "print(\"Vt = \\n\", Vt)"
   ]
  },
  {
   "cell_type": "markdown",
   "metadata": {},
   "source": [
    "and take the last column of matrix $V$ as the approximate solution for $\\phi$: "
   ]
  },
  {
   "cell_type": "code",
   "execution_count": null,
   "metadata": {
    "colab": {
     "base_uri": "https://localhost:8080/"
    },
    "id": "IuIuiEOdu1vg",
    "outputId": "826bfbe1-7612-4f64-84ed-7da7a6192f37"
   },
   "outputs": [],
   "source": [
    "# Solution is the last column of V\n",
    "Phi_hat = Vt.T[:,-1]"
   ]
  },
  {
   "cell_type": "markdown",
   "metadata": {},
   "source": [
    "#### Re-shape the parameters to form the $\\Phi$ matrix\n",
    "Here, we need to re-shape the array solution to the actual $3\\times 3$ matrix of the homography transformation. "
   ]
  },
  {
   "cell_type": "code",
   "execution_count": null,
   "metadata": {
    "colab": {
     "base_uri": "https://localhost:8080/"
    },
    "id": "IuIuiEOdu1vg",
    "outputId": "826bfbe1-7612-4f64-84ed-7da7a6192f37"
   },
   "outputs": [],
   "source": [
    "# Re-shape into matrix form \n",
    "Phi =  np.float32(\n",
    "        [[ Phi_hat[0],   Phi_hat[1],    Phi_hat[2] ],\n",
    "        [ Phi_hat[3],   Phi_hat[4],    Phi_hat[5] ],\n",
    "        [ Phi_hat[6],   Phi_hat[7],    Phi_hat[8] ]]\n",
    "       )\n",
    "\n",
    "print(\"Phi = \\n\", Phi)"
   ]
  },
  {
   "cell_type": "markdown",
   "metadata": {},
   "source": [
    "#### Warp image using the estimated homography"
   ]
  },
  {
   "cell_type": "code",
   "execution_count": null,
   "metadata": {
    "colab": {
     "base_uri": "https://localhost:8080/",
     "height": 281
    },
    "id": "KcS0rR_zu1vg",
    "outputId": "86a1d123-417f-48da-a408-f6c701d4a571"
   },
   "outputs": [],
   "source": [
    "dstImage = cv.warpPerspective(im,np.linalg.inv(Phi),(1000,1000))\n",
    "plt.imshow(dstImage)\n",
    "plt.title('Output')\n",
    "plt.show()"
   ]
  },
  {
   "cell_type": "markdown",
   "metadata": {
    "id": "qQDGfeVwu1vi"
   },
   "source": [
    "### Refine solution using non-linear optmization\n",
    "While the linear solution is usually fine for many applications, it can often be refined by solving the following minimization problem:\n",
    "$$\n",
    "\\begin{align} \n",
    "   \\hat{\\Phi} &=  \\arg_{\\Phi}\\min \n",
    "                      \\left[\n",
    "                         \\sum_{i=1}^{I}\n",
    "                         \\left(x_i - \\frac{\\phi_{11}u_i +  \\phi_{12}v_i + \\phi_{13}}\n",
    "                                             {\\phi_{31}u_i +  \\phi_{32}v_i + \\phi_{33}} \n",
    "                          \\right)^2\n",
    "                          + \n",
    "                         \\left(y_i - \\frac{\\phi_{21}u_i +  \\phi_{22}v_i + \\phi_{23}}\n",
    "                                             {\\phi_{31}u_i +  \\phi_{32}v_i + \\phi_{33}} \n",
    "                          \\right)^2                          \n",
    "                  \\right]\\notag\\\\\n",
    "              &=  \\arg_{\\Phi}\\min \n",
    "                      \\left[\n",
    "                         {\\tt objectiveFunction} (\\phi, {\\bf x}, {\\bf y}, {\\bf u}, {\\bf v})                         \n",
    "                  \\right]. \n",
    "  %     \\label{nonlinearcostfunction}\n",
    " \\end{align}\n",
    "$$"
   ]
  },
  {
   "cell_type": "markdown",
   "metadata": {},
   "source": [
    "To perform the non-linear optimization, we need to implement the objective function."
   ]
  },
  {
   "cell_type": "code",
   "execution_count": null,
   "metadata": {
    "id": "4gPkG13nu1vi"
   },
   "outputs": [],
   "source": [
    "def objectiveFunction (phi, x, y, u, v):\n",
    "\n",
    "    I = x.shape[0]\n",
    "    \n",
    "    sum_squares = 0.0\n",
    "\n",
    "    for i in range(0,I):\n",
    "        # Denominator is common to both x and y produced by model.\n",
    "        d = phi[6] * u[i] + phi[7] * v[i] + phi[8]\n",
    "\n",
    "        # Numerator of x from model\n",
    "        n1 = phi[0] * u[i] + phi[1] * v[i] + phi[2]\n",
    "        x_model = n1 / d\n",
    "\n",
    "        # Numerator of y from model\n",
    "        n2 = phi[3] * u[i] + phi[4] * v[i] + phi[5]\n",
    "        y_model = n2 / d\n",
    "\n",
    "    #    print(x_model,x[i])\n",
    "    #    print(y_model,y[i])\n",
    "\n",
    "        # Squared norm\n",
    "        squared_norm = ( x[i] - x_model )**2 +  ( y[i] - y_model )**2        \n",
    "\n",
    "        # Sum of squared norms\n",
    "        sum_squares = sum_squares + squared_norm\n",
    "\n",
    "    return sum_squares "
   ]
  },
  {
   "cell_type": "markdown",
   "metadata": {},
   "source": [
    "We provide the homography from the linear estimation as the initial guess for the non-linear solver:"
   ]
  },
  {
   "cell_type": "code",
   "execution_count": null,
   "metadata": {
    "colab": {
     "base_uri": "https://localhost:8080/"
    },
    "id": "OESqeGluu1vi",
    "outputId": "cc7d134b-ca8c-4754-899a-fb2d071817bb"
   },
   "outputs": [],
   "source": [
    "Phi_guess = Phi"
   ]
  },
  {
   "cell_type": "markdown",
   "metadata": {},
   "source": [
    "The next step is to call the non-linear solver that will try to further refine initial estimate and hopefully provide a better solution to the homography. "
   ]
  },
  {
   "cell_type": "code",
   "execution_count": null,
   "metadata": {
    "colab": {
     "base_uri": "https://localhost:8080/"
    },
    "id": "mEjcXaGju1vk",
    "outputId": "e05c17cc-0f25-4b55-bc09-99d398924f53"
   },
   "outputs": [],
   "source": [
    "import scipy\n",
    "\n",
    "out = scipy.optimize.minimize(objectiveFunction,x0=Phi_guess, args=(x, y, u, v),options={'disp': True})"
   ]
  },
  {
   "cell_type": "code",
   "execution_count": null,
   "metadata": {
    "colab": {
     "base_uri": "https://localhost:8080/"
    },
    "id": "__QZmYzou1vk",
    "outputId": "81b8dabc-a1e2-49d6-e2eb-c3c25531b996"
   },
   "outputs": [],
   "source": [
    "print(out.x)\n"
   ]
  },
  {
   "cell_type": "code",
   "execution_count": null,
   "metadata": {
    "colab": {
     "base_uri": "https://localhost:8080/"
    },
    "id": "3j1SAfRIu1vl",
    "outputId": "724305a3-7620-4eba-9f8a-81a9df712681"
   },
   "outputs": [],
   "source": [
    "Phi_refined = np.reshape(out.x, (3,3))\n",
    "Phi_refined"
   ]
  },
  {
   "cell_type": "code",
   "execution_count": null,
   "metadata": {
    "colab": {
     "base_uri": "https://localhost:8080/",
     "height": 281
    },
    "id": "4qrmzBAGu1vl",
    "outputId": "20d8a411-e1a4-495c-b87a-44a0712b3114"
   },
   "outputs": [],
   "source": [
    "dstImage = cv.warpPerspective(im,np.linalg.inv(Phi_refined),(1000,1000))\n",
    "plt.imshow(dstImage),\n",
    "plt.title('Output')\n",
    "plt.show()"
   ]
  },
  {
   "cell_type": "code",
   "execution_count": null,
   "metadata": {
    "id": "pnsxmc4lu1vm"
   },
   "outputs": [],
   "source": [
    "x[0] = x[0] + 1\n",
    "x[1] = x[1] + 2.5\n",
    "x[2] = x[2] - 2.8\n",
    "x[3] = x[3] - 3.4\n",
    "\n",
    "y[0] = y[0] - 3.1\n",
    "y[1] = y[1] + 1.2\n",
    "y[2] = y[2] - 2.8\n",
    "y[3] = y[3] + 3.3\n",
    "\n"
   ]
  },
  {
   "cell_type": "code",
   "execution_count": null,
   "metadata": {
    "id": "wF-8uPcgu1vm"
   },
   "outputs": [],
   "source": [
    "e_x = [3, 4, 5, 6]\n",
    "e_x"
   ]
  },
  {
   "cell_type": "code",
   "execution_count": null,
   "metadata": {
    "id": "Z6rpqshEu1vm"
   },
   "outputs": [],
   "source": []
  },
  {
   "cell_type": "code",
   "execution_count": null,
   "metadata": {},
   "outputs": [],
   "source": []
  }
 ],
 "metadata": {
  "colab": {
   "include_colab_link": true,
   "provenance": []
  },
  "kernelspec": {
   "display_name": "Python 3",
   "language": "python",
   "name": "python3"
  },
  "language_info": {
   "codemirror_mode": {
    "name": "ipython",
    "version": 3
   },
   "file_extension": ".py",
   "mimetype": "text/x-python",
   "name": "python",
   "nbconvert_exporter": "python",
   "pygments_lexer": "ipython3",
   "version": "3.9.2"
  }
 },
 "nbformat": 4,
 "nbformat_minor": 4
}
