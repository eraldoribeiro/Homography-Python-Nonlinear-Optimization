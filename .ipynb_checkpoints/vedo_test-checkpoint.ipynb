{
 "cells": [
  {
   "cell_type": "code",
   "execution_count": null,
   "id": "absent-graph",
   "metadata": {},
   "outputs": [],
   "source": [
    "\"\"\"Set custom lights to a 3D scene\"\"\"\n",
    "from vedo import *\n",
    "import matplotlib.pyplot as plt\n",
    "\n",
    "import matplotlib\n",
    "\n",
    "matplotlib.use('module://ipympl.backend_nbagg')\n",
    "\n",
    "\n",
    "man = Mesh(dataurl+'man.vtk').c('white').lighting('glossy')\n",
    "\n",
    "p1 = Point([1,0,1], c='y')\n",
    "p2 = Point([0,0,2], c='r')\n",
    "p3 = Point([-1,-0.5,-1], c='b')\n",
    "p4 = Point([0,1,0], c='k')\n",
    "\n",
    "# Add light sources at the given positions\n",
    "l1 = Light(p1, c='y') # p1 can simply be [1,0,1]\n",
    "l2 = Light(p2, c='r')\n",
    "l3 = Light(p3, c='b')\n",
    "l4 = Light(p4, c='w', intensity=0.5)\n",
    "\n",
    "show(man, l1, l2, l3, l4, p1, p2, p3, p4, __doc__, axes=1, viewup='z')\n",
    "\n",
    "\n",
    "\n",
    "#####################################################\n",
    "##### Equivalent code using a Plotter instance: #####\n",
    "#####################################################\n",
    "\n",
    "#fig, ax = plt.subplots()\n",
    "#ax.plot([1,2,3], [4,3,2])\n",
    "#fig.show()\n",
    "\n",
    "#plt.figure\n",
    "#plt = Plotter(axes=1)\n",
    "#plt += [man, p1, p2, p3, p4, l1, l2, l3, l4]\n",
    "#plt.show(viewup='z')\n",
    "#####################################################"
   ]
  },
  {
   "cell_type": "code",
   "execution_count": 1,
   "id": "enhanced-moral",
   "metadata": {},
   "outputs": [],
   "source": [
    "%matplotlib notebook\n"
   ]
  },
  {
   "cell_type": "code",
   "execution_count": 2,
   "id": "complicated-mexico",
   "metadata": {},
   "outputs": [],
   "source": [
    "import matplotlib\n",
    "\n",
    "\n",
    "\n",
    "from pyvista import examples\n",
    "import pyvista as pv\n",
    "mesh = examples.download_st_helens()\n",
    "warped = mesh.warp_by_scalar('Elevation')\n",
    "surf = warped.extract_surface().triangulate()\n",
    "surf = surf.decimate_pro(0.75)  # reduce the density of the mesh by 75%\n",
    "\n",
    "\n",
    "surf.plot(cmap='gist_earth')"
   ]
  },
  {
   "cell_type": "code",
   "execution_count": null,
   "id": "mathematical-correlation",
   "metadata": {},
   "outputs": [],
   "source": []
  }
 ],
 "metadata": {
  "kernelspec": {
   "display_name": "Python 3",
   "language": "python",
   "name": "python3"
  },
  "language_info": {
   "codemirror_mode": {
    "name": "ipython",
    "version": 3
   },
   "file_extension": ".py",
   "mimetype": "text/x-python",
   "name": "python",
   "nbconvert_exporter": "python",
   "pygments_lexer": "ipython3",
   "version": "3.9.2"
  }
 },
 "nbformat": 4,
 "nbformat_minor": 5
}
